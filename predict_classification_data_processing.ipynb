{
 "cells": [
  {
   "cell_type": "code",
   "execution_count": 1,
   "id": "b4926b04",
   "metadata": {},
   "outputs": [],
   "source": [
    "from comet_ml import Experiment"
   ]
  },
  {
   "cell_type": "code",
   "execution_count": 70,
   "id": "8180d3ee",
   "metadata": {},
   "outputs": [
    {
     "name": "stderr",
     "output_type": "stream",
     "text": [
      "COMET WARNING: As you are running in a Jupyter environment, you will need to call `experiment.end()` when finished to ensure all metrics and code are logged before exiting.\n",
      "COMET INFO: Experiment is live on comet.ml https://www.comet.ml/roceey/edsa-climate-change-belief-analysis/a4d3badda284475c8b45a1fe99acba4b\n",
      "\n"
     ]
    }
   ],
   "source": [
    "#initialize experiment\n",
    "experiment = Experiment(\n",
    "    api_key=\"mn7gOjsbMtlJODxIBDP2G0w6e\",\n",
    "    project_name=\"edsa-climate-change-belief-analysis\",\n",
    "    workspace=\"roceey\",\n",
    ")\n"
   ]
  },
  {
   "cell_type": "code",
   "execution_count": null,
   "id": "663ae097",
   "metadata": {},
   "outputs": [],
   "source": []
  },
  {
   "cell_type": "markdown",
   "id": "c7c68ac2",
   "metadata": {},
   "source": [
    "Importing Libraries to be used in the notebook"
   ]
  },
  {
   "cell_type": "code",
   "execution_count": 3,
   "id": "a238770b",
   "metadata": {},
   "outputs": [],
   "source": [
    "import numpy as np\n",
    "import pandas as pd\n",
    "import matplotlib.pyplot as plt\n",
    "import seaborn as sns\n",
    "%matplotlib inline\n",
    "import re\n",
    "\n",
    "# libraries for NLP\n",
    "from nltk.corpus import stopwords\n",
    "from nltk import SnowballStemmer, PorterStemmer, LancasterStemmer\n",
    "from nltk.stem import WordNetLemmatizer\n",
    "\n",
    "\n",
    "from sklearn.model_selection import train_test_split\n",
    "from sklearn.feature_extraction.text import CountVectorizer\n",
    "from sklearn.preprocessing import MinMaxScaler\n",
    "\n",
    "from sklearn.ensemble import RandomForestClassifier\n",
    "from sklearn.linear_model import LogisticRegression\n",
    "from sklearn.svm import SVC\n",
    "\n",
    "# libraries to check model metrics\n",
    "from sklearn.metrics import confusion_matrix\n",
    "from sklearn.metrics import classification_report\n",
    "from sklearn.metrics import accuracy_score, precision_score\n",
    "\n",
    "#from xgboost import XGBClassifier"
   ]
  },
  {
   "cell_type": "markdown",
   "id": "c13bb1e9",
   "metadata": {},
   "source": [
    "# Loading Dataset"
   ]
  },
  {
   "cell_type": "code",
   "execution_count": 4,
   "id": "c2999a83",
   "metadata": {},
   "outputs": [
    {
     "data": {
      "text/html": [
       "<div>\n",
       "<style scoped>\n",
       "    .dataframe tbody tr th:only-of-type {\n",
       "        vertical-align: middle;\n",
       "    }\n",
       "\n",
       "    .dataframe tbody tr th {\n",
       "        vertical-align: top;\n",
       "    }\n",
       "\n",
       "    .dataframe thead th {\n",
       "        text-align: right;\n",
       "    }\n",
       "</style>\n",
       "<table border=\"1\" class=\"dataframe\">\n",
       "  <thead>\n",
       "    <tr style=\"text-align: right;\">\n",
       "      <th></th>\n",
       "      <th>sentiment</th>\n",
       "      <th>message</th>\n",
       "      <th>tweetid</th>\n",
       "    </tr>\n",
       "  </thead>\n",
       "  <tbody>\n",
       "    <tr>\n",
       "      <th>0</th>\n",
       "      <td>1</td>\n",
       "      <td>PolySciMajor EPA chief doesn't think carbon di...</td>\n",
       "      <td>625221</td>\n",
       "    </tr>\n",
       "    <tr>\n",
       "      <th>1</th>\n",
       "      <td>1</td>\n",
       "      <td>It's not like we lack evidence of anthropogeni...</td>\n",
       "      <td>126103</td>\n",
       "    </tr>\n",
       "    <tr>\n",
       "      <th>2</th>\n",
       "      <td>2</td>\n",
       "      <td>RT @RawStory: Researchers say we have three ye...</td>\n",
       "      <td>698562</td>\n",
       "    </tr>\n",
       "    <tr>\n",
       "      <th>3</th>\n",
       "      <td>1</td>\n",
       "      <td>#TodayinMaker# WIRED : 2016 was a pivotal year...</td>\n",
       "      <td>573736</td>\n",
       "    </tr>\n",
       "    <tr>\n",
       "      <th>4</th>\n",
       "      <td>1</td>\n",
       "      <td>RT @SoyNovioDeTodas: It's 2016, and a racist, ...</td>\n",
       "      <td>466954</td>\n",
       "    </tr>\n",
       "  </tbody>\n",
       "</table>\n",
       "</div>"
      ],
      "text/plain": [
       "   sentiment                                            message  tweetid\n",
       "0          1  PolySciMajor EPA chief doesn't think carbon di...   625221\n",
       "1          1  It's not like we lack evidence of anthropogeni...   126103\n",
       "2          2  RT @RawStory: Researchers say we have three ye...   698562\n",
       "3          1  #TodayinMaker# WIRED : 2016 was a pivotal year...   573736\n",
       "4          1  RT @SoyNovioDeTodas: It's 2016, and a racist, ...   466954"
      ]
     },
     "metadata": {},
     "output_type": "display_data"
    },
    {
     "data": {
      "text/html": [
       "<div>\n",
       "<style scoped>\n",
       "    .dataframe tbody tr th:only-of-type {\n",
       "        vertical-align: middle;\n",
       "    }\n",
       "\n",
       "    .dataframe tbody tr th {\n",
       "        vertical-align: top;\n",
       "    }\n",
       "\n",
       "    .dataframe thead th {\n",
       "        text-align: right;\n",
       "    }\n",
       "</style>\n",
       "<table border=\"1\" class=\"dataframe\">\n",
       "  <thead>\n",
       "    <tr style=\"text-align: right;\">\n",
       "      <th></th>\n",
       "      <th>message</th>\n",
       "      <th>tweetid</th>\n",
       "    </tr>\n",
       "  </thead>\n",
       "  <tbody>\n",
       "    <tr>\n",
       "      <th>0</th>\n",
       "      <td>Europe will now be looking to China to make su...</td>\n",
       "      <td>169760</td>\n",
       "    </tr>\n",
       "    <tr>\n",
       "      <th>1</th>\n",
       "      <td>Combine this with the polling of staffers re c...</td>\n",
       "      <td>35326</td>\n",
       "    </tr>\n",
       "    <tr>\n",
       "      <th>2</th>\n",
       "      <td>The scary, unimpeachable evidence that climate...</td>\n",
       "      <td>224985</td>\n",
       "    </tr>\n",
       "    <tr>\n",
       "      <th>3</th>\n",
       "      <td>@Karoli @morgfair @OsborneInk @dailykos \\nPuti...</td>\n",
       "      <td>476263</td>\n",
       "    </tr>\n",
       "    <tr>\n",
       "      <th>4</th>\n",
       "      <td>RT @FakeWillMoore: 'Female orgasms cause globa...</td>\n",
       "      <td>872928</td>\n",
       "    </tr>\n",
       "  </tbody>\n",
       "</table>\n",
       "</div>"
      ],
      "text/plain": [
       "                                             message  tweetid\n",
       "0  Europe will now be looking to China to make su...   169760\n",
       "1  Combine this with the polling of staffers re c...    35326\n",
       "2  The scary, unimpeachable evidence that climate...   224985\n",
       "3  @Karoli @morgfair @OsborneInk @dailykos \\nPuti...   476263\n",
       "4  RT @FakeWillMoore: 'Female orgasms cause globa...   872928"
      ]
     },
     "metadata": {},
     "output_type": "display_data"
    }
   ],
   "source": [
    "# Importing train and test data\n",
    "train_df = pd.read_csv('train.csv')\n",
    "test_df = pd.read_csv('test_with_no_labels.csv')\n",
    "display(train_df.head())\n",
    "display(test_df.head())\n"
   ]
  },
  {
   "cell_type": "markdown",
   "id": "f8d885e0",
   "metadata": {},
   "source": [
    "# Exploratory Data Analysis "
   ]
  },
  {
   "cell_type": "code",
   "execution_count": 5,
   "id": "95d952d1",
   "metadata": {},
   "outputs": [
    {
     "name": "stdout",
     "output_type": "stream",
     "text": [
      "<class 'pandas.core.frame.DataFrame'>\n",
      "RangeIndex: 15819 entries, 0 to 15818\n",
      "Data columns (total 3 columns):\n",
      " #   Column     Non-Null Count  Dtype \n",
      "---  ------     --------------  ----- \n",
      " 0   sentiment  15819 non-null  int64 \n",
      " 1   message    15819 non-null  object\n",
      " 2   tweetid    15819 non-null  int64 \n",
      "dtypes: int64(2), object(1)\n",
      "memory usage: 370.9+ KB\n"
     ]
    }
   ],
   "source": [
    "train_df.info()"
   ]
  },
  {
   "cell_type": "markdown",
   "id": "cffb0722",
   "metadata": {},
   "source": [
    "The dataset contains three features\n",
    "- the dataset consist of `15819` rows\n",
    "- there seems to be no null values\n"
   ]
  },
  {
   "cell_type": "code",
   "execution_count": 6,
   "id": "6b31a4b9",
   "metadata": {
    "scrolled": false
   },
   "outputs": [
    {
     "data": {
      "image/png": "[encoded data removed]",
      "text/plain": [
       "<Figure size 432x288 with 1 Axes>"
      ]
     },
     "metadata": {
      "needs_background": "light"
     },
     "output_type": "display_data"
    }
   ],
   "source": [
    "train_df.sentiment.value_counts().plot(kind='bar')\n",
    "plt.ylabel('Frequency')\n",
    "plt.xlabel('sentiment');"
   ]
  },
  {
   "cell_type": "code",
   "execution_count": 7,
   "id": "57852964",
   "metadata": {},
   "outputs": [],
   "source": [
    "# Class count\n",
    "pro_Climate, news_Fact, neutral, anti_Climate = train_df.sentiment.value_counts()"
   ]
  },
  {
   "cell_type": "code",
   "execution_count": 8,
   "id": "3acfe471",
   "metadata": {},
   "outputs": [],
   "source": [
    "# Divide by class\n",
    "neutral_df = train_df[train_df['sentiment']==0]\n",
    "anti_Climate_df = train_df[train_df['sentiment']==-1]\n",
    "pro_Climate_df = train_df[train_df['sentiment']==1]\n",
    "news_Fact_df = train_df[train_df['sentiment']==2]"
   ]
  },
  {
   "cell_type": "code",
   "execution_count": 9,
   "id": "399f3588",
   "metadata": {},
   "outputs": [],
   "source": [
    "# As usual, we start by importing our modules\n",
    "from sklearn.utils import resample"
   ]
  },
  {
   "cell_type": "code",
   "execution_count": 10,
   "id": "0f140917",
   "metadata": {},
   "outputs": [
    {
     "name": "stdout",
     "output_type": "stream",
     "text": [
      "Random under-sampling:\n",
      " 0    8530\n",
      "-1    8530\n",
      " 2    8530\n",
      " 1    8530\n",
      "Name: sentiment, dtype: int64\n"
     ]
    },
    {
     "data": {
      "image/png": "[encoded data removed]",
      "text/plain": [
       "<Figure size 432x288 with 1 Axes>"
      ]
     },
     "metadata": {
      "needs_background": "light"
     },
     "output_type": "display_data"
    }
   ],
   "source": [
    "neutral_df_over = resample(neutral_df,\n",
    "                          replace=True, # sample without replacement (no need to duplicate observations)\n",
    "                          n_samples=pro_Climate, # match number in minority class\n",
    "                          random_state=27)\n",
    "\n",
    "anti_Climate_df_over = resample(anti_Climate_df,\n",
    "                          replace=True, # sample without replacement (no need to duplicate observations)\n",
    "                          n_samples=pro_Climate, # match number in minority class\n",
    "                          random_state=27)\n",
    "news_Fact_df_over = resample(news_Fact_df,\n",
    "                          replace=True, # sample without replacement (no need to duplicate observations)\n",
    "                          n_samples=pro_Climate, # match number in minority class\n",
    "                          random_state=27)\n",
    "\n",
    "df_test_over = pd.concat([neutral_df_over, anti_Climate_df_over, news_Fact_df_over, pro_Climate_df], axis=0)\n",
    "\n",
    "print('Random under-sampling:')\n",
    "print(df_test_over.sentiment.value_counts())\n",
    "\n",
    "df_test_over.sentiment.value_counts().plot(kind='bar', title='Count (target)');"
   ]
  },
  {
   "cell_type": "code",
   "execution_count": 11,
   "id": "200f2b21",
   "metadata": {},
   "outputs": [],
   "source": [
    "# neutral_df_over = neutral_df.sample(news_Fact, replace=True)\n",
    "# anti_Climate_df_over = anti_Climate_df.sample(news_Fact, replace=True)\n",
    "# pro_Climate_df_over = pro_Climate_df.sample(news_Fact)\n",
    "# df_test_over = pd.concat([neutral_df_over, anti_Climate_df_over, pro_Climate_df_over, news_Fact_df], axis=0)\n",
    "\n",
    "# print('Random under-sampling:')\n",
    "# print(df_test_over.sentiment.value_counts())\n",
    "\n",
    "# df_test_over.sentiment.value_counts().plot(kind='bar', title='Count (target)');"
   ]
  },
  {
   "cell_type": "markdown",
   "id": "9f325cb6",
   "metadata": {},
   "source": [
    "Most tweets support the man-made climate change which is represented by `1` while we have a fewer anti-climate change tweets"
   ]
  },
  {
   "cell_type": "markdown",
   "id": "bbe97547",
   "metadata": {},
   "source": [
    "# Data Cleaning and Wrangling "
   ]
  },
  {
   "cell_type": "markdown",
   "id": "90eb8d01",
   "metadata": {},
   "source": [
    "### Creating a function to clean the `message`"
   ]
  },
  {
   "cell_type": "code",
   "execution_count": 12,
   "id": "b1537ba2",
   "metadata": {},
   "outputs": [],
   "source": [
    "# sentiment_list\n",
    "sentiment_list = ['Neutral', 'Anti-Climate', 'Pro-Climate','News-Fact']"
   ]
  },
  {
   "cell_type": "code",
   "execution_count": 13,
   "id": "1a042005",
   "metadata": {},
   "outputs": [],
   "source": [
    "# # creating a function to stem each words\n",
    "stemmer = SnowballStemmer('english')\n",
    "# creating a function to lemmatize each words\n",
    "lemmatizer = WordNetLemmatizer()"
   ]
  },
  {
   "cell_type": "code",
   "execution_count": 14,
   "id": "dce4bb2e",
   "metadata": {},
   "outputs": [],
   "source": [
    "# creating a function\n",
    "def cleaning(tweet):\n",
    "    pattern = r'http[s]?://(?:[A-Za-z]|[0-9]|[$-_@.&+]|[!*\\(\\),]|(?:%[0-9A-Fa-f][0-9A-Fa-f]))+'\n",
    "    rem_link = re.sub(pattern, '', tweet)\n",
    "    rem_punct = re.sub(r'[^a-zA-Z ]', '', rem_link)\n",
    "    rem_punct = re.sub(r'RT', '', rem_punct)\n",
    "    word_split = rem_punct.lower().split()\n",
    "    stops = set(stopwords.words(\"english\"))\n",
    "    without_stop_sent = ' '.join([t for t in word_split if t not in stops])\n",
    "    return without_stop_sent\n",
    "\n",
    "df_test_over['cleaned_tweet'] = df_test_over.message.apply(cleaning)"
   ]
  },
  {
   "cell_type": "code",
   "execution_count": 15,
   "id": "cc0f74a1",
   "metadata": {},
   "outputs": [],
   "source": [
    "def stemmer_fn(words, stemmer):\n",
    "    word_split = set(words.split())\n",
    "    return ' '.join([stemmer.stem(word) for word in word_split])\n",
    "\n",
    "df_test_over['stem_tweet'] = df_test_over.cleaned_tweet.apply(stemmer_fn, args=(stemmer, ))"
   ]
  },
  {
   "cell_type": "code",
   "execution_count": 16,
   "id": "6c7a7748",
   "metadata": {},
   "outputs": [],
   "source": [
    "def lemmatizer_fn(words, lemmatizer):\n",
    "    word_split = set(words.split())\n",
    "    return ' '.join([lemmatizer.lemmatize(word) for word in word_split])\n",
    "\n",
    "df_test_over['lemma_tweet'] = df_test_over['cleaned_tweet'].apply(lemmatizer_fn, args=(lemmatizer, ))"
   ]
  },
  {
   "cell_type": "code",
   "execution_count": 17,
   "id": "5ea901a5",
   "metadata": {},
   "outputs": [
    {
     "data": {
      "text/html": [
       "<div>\n",
       "<style scoped>\n",
       "    .dataframe tbody tr th:only-of-type {\n",
       "        vertical-align: middle;\n",
       "    }\n",
       "\n",
       "    .dataframe tbody tr th {\n",
       "        vertical-align: top;\n",
       "    }\n",
       "\n",
       "    .dataframe thead th {\n",
       "        text-align: right;\n",
       "    }\n",
       "</style>\n",
       "<table border=\"1\" class=\"dataframe\">\n",
       "  <thead>\n",
       "    <tr style=\"text-align: right;\">\n",
       "      <th></th>\n",
       "      <th>sentiment</th>\n",
       "      <th>message</th>\n",
       "      <th>tweetid</th>\n",
       "      <th>cleaned_tweet</th>\n",
       "      <th>stem_tweet</th>\n",
       "      <th>lemma_tweet</th>\n",
       "    </tr>\n",
       "  </thead>\n",
       "  <tbody>\n",
       "    <tr>\n",
       "      <th>6841</th>\n",
       "      <td>0</td>\n",
       "      <td>RT @kady: Don't worry, people can now start co...</td>\n",
       "      <td>937757</td>\n",
       "      <td>kady dont worry people start complaining took ...</td>\n",
       "      <td>took two year ambassador complain peopl kadi n...</td>\n",
       "      <td>took two year ambassador complaining people ka...</td>\n",
       "    </tr>\n",
       "    <tr>\n",
       "      <th>4894</th>\n",
       "      <td>0</td>\n",
       "      <td>Gold's gone, many other minerals almost gone, ...</td>\n",
       "      <td>364120</td>\n",
       "      <td>golds gone many minerals almost gone weve rest...</td>\n",
       "      <td>sought gold almost china import weve climat pl...</td>\n",
       "      <td>sought gold almost china import weve climate p...</td>\n",
       "    </tr>\n",
       "    <tr>\n",
       "      <th>8696</th>\n",
       "      <td>0</td>\n",
       "      <td>@GlblCtzn dont fight climate change everyone u...</td>\n",
       "      <td>201783</td>\n",
       "      <td>glblctzn dont fight climate change everyone un...</td>\n",
       "      <td>glblctzn fight caus everyon climat understand ...</td>\n",
       "      <td>glblctzn fight cause everyone climate understa...</td>\n",
       "    </tr>\n",
       "    <tr>\n",
       "      <th>906</th>\n",
       "      <td>0</td>\n",
       "      <td>What do you guys think of Trump's stance on cl...</td>\n",
       "      <td>558046</td>\n",
       "      <td>guys think trumps stance climate change global...</td>\n",
       "      <td>think global stanc climat trump warm chang guy</td>\n",
       "      <td>think global stance climate trump warming chan...</td>\n",
       "    </tr>\n",
       "    <tr>\n",
       "      <th>6741</th>\n",
       "      <td>0</td>\n",
       "      <td>An upside to climate change is that I'm wearin...</td>\n",
       "      <td>816243</td>\n",
       "      <td>upside climate change im wearing shorts tshirt...</td>\n",
       "      <td>short wear tshirt novemb climat im upsid chang</td>\n",
       "      <td>short wearing tshirt november climate im upsid...</td>\n",
       "    </tr>\n",
       "  </tbody>\n",
       "</table>\n",
       "</div>"
      ],
      "text/plain": [
       "      sentiment                                            message  tweetid  \\\n",
       "6841          0  RT @kady: Don't worry, people can now start co...   937757   \n",
       "4894          0  Gold's gone, many other minerals almost gone, ...   364120   \n",
       "8696          0  @GlblCtzn dont fight climate change everyone u...   201783   \n",
       "906           0  What do you guys think of Trump's stance on cl...   558046   \n",
       "6741          0  An upside to climate change is that I'm wearin...   816243   \n",
       "\n",
       "                                          cleaned_tweet  \\\n",
       "6841  kady dont worry people start complaining took ...   \n",
       "4894  golds gone many minerals almost gone weve rest...   \n",
       "8696  glblctzn dont fight climate change everyone un...   \n",
       "906   guys think trumps stance climate change global...   \n",
       "6741  upside climate change im wearing shorts tshirt...   \n",
       "\n",
       "                                             stem_tweet  \\\n",
       "6841  took two year ambassador complain peopl kadi n...   \n",
       "4894  sought gold almost china import weve climat pl...   \n",
       "8696  glblctzn fight caus everyon climat understand ...   \n",
       "906      think global stanc climat trump warm chang guy   \n",
       "6741     short wear tshirt novemb climat im upsid chang   \n",
       "\n",
       "                                            lemma_tweet  \n",
       "6841  took two year ambassador complaining people ka...  \n",
       "4894  sought gold almost china import weve climate p...  \n",
       "8696  glblctzn fight cause everyone climate understa...  \n",
       "906   think global stance climate trump warming chan...  \n",
       "6741  short wearing tshirt november climate im upsid...  "
      ]
     },
     "execution_count": 17,
     "metadata": {},
     "output_type": "execute_result"
    }
   ],
   "source": [
    "df_test_over.head()"
   ]
  },
  {
   "cell_type": "code",
   "execution_count": 18,
   "id": "01a61ae6",
   "metadata": {},
   "outputs": [],
   "source": [
    "# vectorize\n",
    "vectorizer = CountVectorizer(analyzer = \"word\",\n",
    "                             min_df=2,\n",
    "#                              max_df = 0.5,\n",
    "#                              ngram_range=(1, 5),\n",
    "                             max_features = None) "
   ]
  },
  {
   "cell_type": "code",
   "execution_count": 19,
   "id": "b5c21cfe",
   "metadata": {},
   "outputs": [],
   "source": [
    "reviews_vect = vectorizer.fit_transform(df_test_over['lemma_tweet'])"
   ]
  },
  {
   "cell_type": "code",
   "execution_count": 20,
   "id": "298fcb27",
   "metadata": {},
   "outputs": [
    {
     "data": {
      "text/plain": [
       "(34120, 13795)"
      ]
     },
     "execution_count": 20,
     "metadata": {},
     "output_type": "execute_result"
    }
   ],
   "source": [
    "train_data_features = reviews_vect.toarray() # for fast fitting of our dataset\n",
    "train_data_features.shape"
   ]
  },
  {
   "cell_type": "code",
   "execution_count": 21,
   "id": "08058a0a",
   "metadata": {},
   "outputs": [],
   "source": [
    "y = np.array(df_test_over['sentiment'])\n",
    "X = train_data_features\n",
    "\n",
    "# split into train and test\n",
    "X_train, X_test, y_train, y_test = train_test_split(X, y, test_size=0.2, random_state=10)"
   ]
  },
  {
   "cell_type": "code",
   "execution_count": 46,
   "id": "0a48eba2",
   "metadata": {},
   "outputs": [],
   "source": [
    "def modelling(model, X_train=X_train, X_test=X_test, y_train=y_train, y_test=y_test, coln_index=None):\n",
    "    model.fit(X_train, y_train)\n",
    "    pred_lm = model.predict(X_test)\n",
    "    # Plotting confusion matrix\n",
    "    cm = confusion_matrix(y_test, pred_lm)\n",
    "    cm_df = pd.DataFrame(cm, index = sentiment_list, columns = sentiment_list)\n",
    "    cr_df = pd.DataFrame(classification_report(y_test, pred_lm, target_names=sentiment_list, output_dict=True))\n",
    "    \n",
    "    #Plotting the confusion matrix\n",
    "    plt.figure(figsize=(10,5))\n",
    "    sns.heatmap(cm_df, annot=True)\n",
    "    plt.title('Confusion Matrix')\n",
    "    plt.ylabel('Actal Values')\n",
    "    plt.xlabel('Predicted Values')\n",
    "    plt.show()\n",
    "    \n",
    "    print('Confusion Matrix')\n",
    "    display(cm_df)\n",
    "    print('Classification Report')\n",
    "    display(cr_df)\n",
    "    \n",
    "    return cm_df, cr_df, cm"
   ]
  },
  {
   "cell_type": "code",
   "execution_count": 47,
   "id": "57e16c87",
   "metadata": {
    "scrolled": false
   },
   "outputs": [
    {
     "name": "stdout",
     "output_type": "stream",
     "text": [
      "[LibLinear]"
     ]
    },
    {
     "data": {
      "image/png": "[encoded data removed]",
      "text/plain": [
       "<Figure size 720x360 with 2 Axes>"
      ]
     },
     "metadata": {
      "needs_background": "light"
     },
     "output_type": "display_data"
    },
    {
     "name": "stdout",
     "output_type": "stream",
     "text": [
      "Confusion Matrix\n"
     ]
    },
    {
     "data": {
      "text/html": [
       "<div>\n",
       "<style scoped>\n",
       "    .dataframe tbody tr th:only-of-type {\n",
       "        vertical-align: middle;\n",
       "    }\n",
       "\n",
       "    .dataframe tbody tr th {\n",
       "        vertical-align: top;\n",
       "    }\n",
       "\n",
       "    .dataframe thead th {\n",
       "        text-align: right;\n",
       "    }\n",
       "</style>\n",
       "<table border=\"1\" class=\"dataframe\">\n",
       "  <thead>\n",
       "    <tr style=\"text-align: right;\">\n",
       "      <th></th>\n",
       "      <th>Neutral</th>\n",
       "      <th>Anti-Climate</th>\n",
       "      <th>Pro-Climate</th>\n",
       "      <th>News-Fact</th>\n",
       "    </tr>\n",
       "  </thead>\n",
       "  <tbody>\n",
       "    <tr>\n",
       "      <th>Neutral</th>\n",
       "      <td>1691</td>\n",
       "      <td>7</td>\n",
       "      <td>11</td>\n",
       "      <td>0</td>\n",
       "    </tr>\n",
       "    <tr>\n",
       "      <th>Anti-Climate</th>\n",
       "      <td>15</td>\n",
       "      <td>1627</td>\n",
       "      <td>52</td>\n",
       "      <td>9</td>\n",
       "    </tr>\n",
       "    <tr>\n",
       "      <th>Pro-Climate</th>\n",
       "      <td>58</td>\n",
       "      <td>156</td>\n",
       "      <td>1342</td>\n",
       "      <td>155</td>\n",
       "    </tr>\n",
       "    <tr>\n",
       "      <th>News-Fact</th>\n",
       "      <td>0</td>\n",
       "      <td>17</td>\n",
       "      <td>48</td>\n",
       "      <td>1636</td>\n",
       "    </tr>\n",
       "  </tbody>\n",
       "</table>\n",
       "</div>"
      ],
      "text/plain": [
       "              Neutral  Anti-Climate  Pro-Climate  News-Fact\n",
       "Neutral          1691             7           11          0\n",
       "Anti-Climate       15          1627           52          9\n",
       "Pro-Climate        58           156         1342        155\n",
       "News-Fact           0            17           48       1636"
      ]
     },
     "metadata": {},
     "output_type": "display_data"
    },
    {
     "name": "stdout",
     "output_type": "stream",
     "text": [
      "Classification Report\n"
     ]
    },
    {
     "data": {
      "text/html": [
       "<div>\n",
       "<style scoped>\n",
       "    .dataframe tbody tr th:only-of-type {\n",
       "        vertical-align: middle;\n",
       "    }\n",
       "\n",
       "    .dataframe tbody tr th {\n",
       "        vertical-align: top;\n",
       "    }\n",
       "\n",
       "    .dataframe thead th {\n",
       "        text-align: right;\n",
       "    }\n",
       "</style>\n",
       "<table border=\"1\" class=\"dataframe\">\n",
       "  <thead>\n",
       "    <tr style=\"text-align: right;\">\n",
       "      <th></th>\n",
       "      <th>Neutral</th>\n",
       "      <th>Anti-Climate</th>\n",
       "      <th>Pro-Climate</th>\n",
       "      <th>News-Fact</th>\n",
       "      <th>accuracy</th>\n",
       "      <th>macro avg</th>\n",
       "      <th>weighted avg</th>\n",
       "    </tr>\n",
       "  </thead>\n",
       "  <tbody>\n",
       "    <tr>\n",
       "      <th>precision</th>\n",
       "      <td>0.958617</td>\n",
       "      <td>0.900387</td>\n",
       "      <td>0.923606</td>\n",
       "      <td>0.908889</td>\n",
       "      <td>0.922626</td>\n",
       "      <td>0.922875</td>\n",
       "      <td>0.922911</td>\n",
       "    </tr>\n",
       "    <tr>\n",
       "      <th>recall</th>\n",
       "      <td>0.989468</td>\n",
       "      <td>0.955373</td>\n",
       "      <td>0.784337</td>\n",
       "      <td>0.961787</td>\n",
       "      <td>0.922626</td>\n",
       "      <td>0.922741</td>\n",
       "      <td>0.922626</td>\n",
       "    </tr>\n",
       "    <tr>\n",
       "      <th>f1-score</th>\n",
       "      <td>0.973798</td>\n",
       "      <td>0.927066</td>\n",
       "      <td>0.848293</td>\n",
       "      <td>0.934590</td>\n",
       "      <td>0.922626</td>\n",
       "      <td>0.920937</td>\n",
       "      <td>0.920894</td>\n",
       "    </tr>\n",
       "    <tr>\n",
       "      <th>support</th>\n",
       "      <td>1709.000000</td>\n",
       "      <td>1703.000000</td>\n",
       "      <td>1711.000000</td>\n",
       "      <td>1701.000000</td>\n",
       "      <td>0.922626</td>\n",
       "      <td>6824.000000</td>\n",
       "      <td>6824.000000</td>\n",
       "    </tr>\n",
       "  </tbody>\n",
       "</table>\n",
       "</div>"
      ],
      "text/plain": [
       "               Neutral  Anti-Climate  Pro-Climate    News-Fact  accuracy  \\\n",
       "precision     0.958617      0.900387     0.923606     0.908889  0.922626   \n",
       "recall        0.989468      0.955373     0.784337     0.961787  0.922626   \n",
       "f1-score      0.973798      0.927066     0.848293     0.934590  0.922626   \n",
       "support    1709.000000   1703.000000  1711.000000  1701.000000  0.922626   \n",
       "\n",
       "             macro avg  weighted avg  \n",
       "precision     0.922875      0.922911  \n",
       "recall        0.922741      0.922626  \n",
       "f1-score      0.920937      0.920894  \n",
       "support    6824.000000   6824.000000  "
      ]
     },
     "metadata": {},
     "output_type": "display_data"
    }
   ],
   "source": [
    "# create logistic regression model instance\n",
    "lm = LogisticRegression(C=2, penalty='l2', solver='liblinear', verbose=1)\n",
    "cm_df_logit, cr_df_logit, cm_logit = modelling(lm,  coln_index=sentiment_list)"
   ]
  },
  {
   "cell_type": "code",
   "execution_count": 49,
   "id": "5aa446ff",
   "metadata": {},
   "outputs": [
    {
     "data": {
      "text/plain": [
       "array([[1691,    7,   11,    0],\n",
       "       [  15, 1627,   52,    9],\n",
       "       [  58,  156, 1342,  155],\n",
       "       [   0,   17,   48, 1636]], dtype=int64)"
      ]
     },
     "execution_count": 49,
     "metadata": {},
     "output_type": "execute_result"
    }
   ],
   "source": [
    "cm_logit"
   ]
  },
  {
   "cell_type": "code",
   "execution_count": 24,
   "id": "9e3021b2",
   "metadata": {},
   "outputs": [],
   "source": [
    "from sklearn.naive_bayes import GaussianNB\n",
    "from sklearn.neighbors import KNeighborsClassifier\n",
    "\n",
    "import warnings\n",
    "warnings.filterwarnings(\"ignore\")"
   ]
  },
  {
   "cell_type": "code",
   "execution_count": 50,
   "id": "80b12c9b",
   "metadata": {},
   "outputs": [
    {
     "data": {
      "image/png": "[encoded data removed]",
      "text/plain": [
       "<Figure size 720x360 with 2 Axes>"
      ]
     },
     "metadata": {
      "needs_background": "light"
     },
     "output_type": "display_data"
    },
    {
     "name": "stdout",
     "output_type": "stream",
     "text": [
      "Confusion Matrix\n"
     ]
    },
    {
     "data": {
      "text/html": [
       "<div>\n",
       "<style scoped>\n",
       "    .dataframe tbody tr th:only-of-type {\n",
       "        vertical-align: middle;\n",
       "    }\n",
       "\n",
       "    .dataframe tbody tr th {\n",
       "        vertical-align: top;\n",
       "    }\n",
       "\n",
       "    .dataframe thead th {\n",
       "        text-align: right;\n",
       "    }\n",
       "</style>\n",
       "<table border=\"1\" class=\"dataframe\">\n",
       "  <thead>\n",
       "    <tr style=\"text-align: right;\">\n",
       "      <th></th>\n",
       "      <th>Neutral</th>\n",
       "      <th>Anti-Climate</th>\n",
       "      <th>Pro-Climate</th>\n",
       "      <th>News-Fact</th>\n",
       "    </tr>\n",
       "  </thead>\n",
       "  <tbody>\n",
       "    <tr>\n",
       "      <th>Neutral</th>\n",
       "      <td>1705</td>\n",
       "      <td>2</td>\n",
       "      <td>2</td>\n",
       "      <td>0</td>\n",
       "    </tr>\n",
       "    <tr>\n",
       "      <th>Anti-Climate</th>\n",
       "      <td>7</td>\n",
       "      <td>1676</td>\n",
       "      <td>15</td>\n",
       "      <td>5</td>\n",
       "    </tr>\n",
       "    <tr>\n",
       "      <th>Pro-Climate</th>\n",
       "      <td>61</td>\n",
       "      <td>701</td>\n",
       "      <td>835</td>\n",
       "      <td>114</td>\n",
       "    </tr>\n",
       "    <tr>\n",
       "      <th>News-Fact</th>\n",
       "      <td>3</td>\n",
       "      <td>82</td>\n",
       "      <td>19</td>\n",
       "      <td>1597</td>\n",
       "    </tr>\n",
       "  </tbody>\n",
       "</table>\n",
       "</div>"
      ],
      "text/plain": [
       "              Neutral  Anti-Climate  Pro-Climate  News-Fact\n",
       "Neutral          1705             2            2          0\n",
       "Anti-Climate        7          1676           15          5\n",
       "Pro-Climate        61           701          835        114\n",
       "News-Fact           3            82           19       1597"
      ]
     },
     "metadata": {},
     "output_type": "display_data"
    },
    {
     "name": "stdout",
     "output_type": "stream",
     "text": [
      "Classification Report\n"
     ]
    },
    {
     "data": {
      "text/html": [
       "<div>\n",
       "<style scoped>\n",
       "    .dataframe tbody tr th:only-of-type {\n",
       "        vertical-align: middle;\n",
       "    }\n",
       "\n",
       "    .dataframe tbody tr th {\n",
       "        vertical-align: top;\n",
       "    }\n",
       "\n",
       "    .dataframe thead th {\n",
       "        text-align: right;\n",
       "    }\n",
       "</style>\n",
       "<table border=\"1\" class=\"dataframe\">\n",
       "  <thead>\n",
       "    <tr style=\"text-align: right;\">\n",
       "      <th></th>\n",
       "      <th>Neutral</th>\n",
       "      <th>Anti-Climate</th>\n",
       "      <th>Pro-Climate</th>\n",
       "      <th>News-Fact</th>\n",
       "      <th>accuracy</th>\n",
       "      <th>macro avg</th>\n",
       "      <th>weighted avg</th>\n",
       "    </tr>\n",
       "  </thead>\n",
       "  <tbody>\n",
       "    <tr>\n",
       "      <th>precision</th>\n",
       "      <td>0.960023</td>\n",
       "      <td>0.681024</td>\n",
       "      <td>0.958668</td>\n",
       "      <td>0.930653</td>\n",
       "      <td>0.851846</td>\n",
       "      <td>0.882592</td>\n",
       "      <td>0.882735</td>\n",
       "    </tr>\n",
       "    <tr>\n",
       "      <th>recall</th>\n",
       "      <td>0.997659</td>\n",
       "      <td>0.984146</td>\n",
       "      <td>0.488019</td>\n",
       "      <td>0.938859</td>\n",
       "      <td>0.851846</td>\n",
       "      <td>0.852171</td>\n",
       "      <td>0.851846</td>\n",
       "    </tr>\n",
       "    <tr>\n",
       "      <th>f1-score</th>\n",
       "      <td>0.978479</td>\n",
       "      <td>0.804995</td>\n",
       "      <td>0.646785</td>\n",
       "      <td>0.934738</td>\n",
       "      <td>0.851846</td>\n",
       "      <td>0.841249</td>\n",
       "      <td>0.841115</td>\n",
       "    </tr>\n",
       "    <tr>\n",
       "      <th>support</th>\n",
       "      <td>1709.000000</td>\n",
       "      <td>1703.000000</td>\n",
       "      <td>1711.000000</td>\n",
       "      <td>1701.000000</td>\n",
       "      <td>0.851846</td>\n",
       "      <td>6824.000000</td>\n",
       "      <td>6824.000000</td>\n",
       "    </tr>\n",
       "  </tbody>\n",
       "</table>\n",
       "</div>"
      ],
      "text/plain": [
       "               Neutral  Anti-Climate  Pro-Climate    News-Fact  accuracy  \\\n",
       "precision     0.960023      0.681024     0.958668     0.930653  0.851846   \n",
       "recall        0.997659      0.984146     0.488019     0.938859  0.851846   \n",
       "f1-score      0.978479      0.804995     0.646785     0.934738  0.851846   \n",
       "support    1709.000000   1703.000000  1711.000000  1701.000000  0.851846   \n",
       "\n",
       "             macro avg  weighted avg  \n",
       "precision     0.882592      0.882735  \n",
       "recall        0.852171      0.851846  \n",
       "f1-score      0.841249      0.841115  \n",
       "support    6824.000000   6824.000000  "
      ]
     },
     "metadata": {},
     "output_type": "display_data"
    }
   ],
   "source": [
    "n_neighbors = 1 # <--- change this number to play around with how many nearest neighbours to look for.\n",
    "\n",
    "knn = KNeighborsClassifier(n_neighbors)\n",
    "cm_df_knn, cr_df_knn, cm_knn = modelling(knn,  coln_index=sentiment_list)"
   ]
  },
  {
   "cell_type": "code",
   "execution_count": 51,
   "id": "f07f7688",
   "metadata": {},
   "outputs": [
    {
     "data": {
      "image/png": "[encoded data removed]",
      "text/plain": [
       "<Figure size 720x360 with 2 Axes>"
      ]
     },
     "metadata": {
      "needs_background": "light"
     },
     "output_type": "display_data"
    },
    {
     "name": "stdout",
     "output_type": "stream",
     "text": [
      "Confusion Matrix\n"
     ]
    },
    {
     "data": {
      "text/html": [
       "<div>\n",
       "<style scoped>\n",
       "    .dataframe tbody tr th:only-of-type {\n",
       "        vertical-align: middle;\n",
       "    }\n",
       "\n",
       "    .dataframe tbody tr th {\n",
       "        vertical-align: top;\n",
       "    }\n",
       "\n",
       "    .dataframe thead th {\n",
       "        text-align: right;\n",
       "    }\n",
       "</style>\n",
       "<table border=\"1\" class=\"dataframe\">\n",
       "  <thead>\n",
       "    <tr style=\"text-align: right;\">\n",
       "      <th></th>\n",
       "      <th>Neutral</th>\n",
       "      <th>Anti-Climate</th>\n",
       "      <th>Pro-Climate</th>\n",
       "      <th>News-Fact</th>\n",
       "    </tr>\n",
       "  </thead>\n",
       "  <tbody>\n",
       "    <tr>\n",
       "      <th>Neutral</th>\n",
       "      <td>1705</td>\n",
       "      <td>0</td>\n",
       "      <td>0</td>\n",
       "      <td>4</td>\n",
       "    </tr>\n",
       "    <tr>\n",
       "      <th>Anti-Climate</th>\n",
       "      <td>102</td>\n",
       "      <td>1395</td>\n",
       "      <td>144</td>\n",
       "      <td>62</td>\n",
       "    </tr>\n",
       "    <tr>\n",
       "      <th>Pro-Climate</th>\n",
       "      <td>288</td>\n",
       "      <td>36</td>\n",
       "      <td>1088</td>\n",
       "      <td>299</td>\n",
       "    </tr>\n",
       "    <tr>\n",
       "      <th>News-Fact</th>\n",
       "      <td>124</td>\n",
       "      <td>12</td>\n",
       "      <td>42</td>\n",
       "      <td>1523</td>\n",
       "    </tr>\n",
       "  </tbody>\n",
       "</table>\n",
       "</div>"
      ],
      "text/plain": [
       "              Neutral  Anti-Climate  Pro-Climate  News-Fact\n",
       "Neutral          1705             0            0          4\n",
       "Anti-Climate      102          1395          144         62\n",
       "Pro-Climate       288            36         1088        299\n",
       "News-Fact         124            12           42       1523"
      ]
     },
     "metadata": {},
     "output_type": "display_data"
    },
    {
     "name": "stdout",
     "output_type": "stream",
     "text": [
      "Classification Report\n"
     ]
    },
    {
     "data": {
      "text/html": [
       "<div>\n",
       "<style scoped>\n",
       "    .dataframe tbody tr th:only-of-type {\n",
       "        vertical-align: middle;\n",
       "    }\n",
       "\n",
       "    .dataframe tbody tr th {\n",
       "        vertical-align: top;\n",
       "    }\n",
       "\n",
       "    .dataframe thead th {\n",
       "        text-align: right;\n",
       "    }\n",
       "</style>\n",
       "<table border=\"1\" class=\"dataframe\">\n",
       "  <thead>\n",
       "    <tr style=\"text-align: right;\">\n",
       "      <th></th>\n",
       "      <th>Neutral</th>\n",
       "      <th>Anti-Climate</th>\n",
       "      <th>Pro-Climate</th>\n",
       "      <th>News-Fact</th>\n",
       "      <th>accuracy</th>\n",
       "      <th>macro avg</th>\n",
       "      <th>weighted avg</th>\n",
       "    </tr>\n",
       "  </thead>\n",
       "  <tbody>\n",
       "    <tr>\n",
       "      <th>precision</th>\n",
       "      <td>0.768364</td>\n",
       "      <td>0.966736</td>\n",
       "      <td>0.854003</td>\n",
       "      <td>0.806674</td>\n",
       "      <td>0.836899</td>\n",
       "      <td>0.848944</td>\n",
       "      <td>0.848892</td>\n",
       "    </tr>\n",
       "    <tr>\n",
       "      <th>recall</th>\n",
       "      <td>0.997659</td>\n",
       "      <td>0.819143</td>\n",
       "      <td>0.635885</td>\n",
       "      <td>0.895356</td>\n",
       "      <td>0.836899</td>\n",
       "      <td>0.837011</td>\n",
       "      <td>0.836899</td>\n",
       "    </tr>\n",
       "    <tr>\n",
       "      <th>f1-score</th>\n",
       "      <td>0.868126</td>\n",
       "      <td>0.886840</td>\n",
       "      <td>0.728978</td>\n",
       "      <td>0.848704</td>\n",
       "      <td>0.836899</td>\n",
       "      <td>0.833162</td>\n",
       "      <td>0.833066</td>\n",
       "    </tr>\n",
       "    <tr>\n",
       "      <th>support</th>\n",
       "      <td>1709.000000</td>\n",
       "      <td>1703.000000</td>\n",
       "      <td>1711.000000</td>\n",
       "      <td>1701.000000</td>\n",
       "      <td>0.836899</td>\n",
       "      <td>6824.000000</td>\n",
       "      <td>6824.000000</td>\n",
       "    </tr>\n",
       "  </tbody>\n",
       "</table>\n",
       "</div>"
      ],
      "text/plain": [
       "               Neutral  Anti-Climate  Pro-Climate    News-Fact  accuracy  \\\n",
       "precision     0.768364      0.966736     0.854003     0.806674  0.836899   \n",
       "recall        0.997659      0.819143     0.635885     0.895356  0.836899   \n",
       "f1-score      0.868126      0.886840     0.728978     0.848704  0.836899   \n",
       "support    1709.000000   1703.000000  1711.000000  1701.000000  0.836899   \n",
       "\n",
       "             macro avg  weighted avg  \n",
       "precision     0.848944      0.848892  \n",
       "recall        0.837011      0.836899  \n",
       "f1-score      0.833162      0.833066  \n",
       "support    6824.000000   6824.000000  "
      ]
     },
     "metadata": {},
     "output_type": "display_data"
    }
   ],
   "source": [
    "naive_bayes = GaussianNB()\n",
    "cm_df_naive, cr_df_naive, cm_naive = modelling(naive_bayes,  coln_index=sentiment_list)"
   ]
  },
  {
   "cell_type": "markdown",
   "id": "76465443",
   "metadata": {},
   "source": [
    "#### Cleaning the test dataset"
   ]
  },
  {
   "cell_type": "code",
   "execution_count": 27,
   "id": "79e01e57",
   "metadata": {},
   "outputs": [],
   "source": [
    "test_df['cleaned_tweet'] = test_df.message.apply(cleaning)\n",
    "test_df['lemma_tweet'] = test_df['cleaned_tweet'].apply(lemmatizer_fn, args=(lemmatizer, ))\n",
    "test_df['stem_tweet'] = test_df.cleaned_tweet.apply(stemmer_fn, args=(stemmer, ))"
   ]
  },
  {
   "cell_type": "code",
   "execution_count": 28,
   "id": "8ad36d47",
   "metadata": {},
   "outputs": [
    {
     "data": {
      "text/html": [
       "<div>\n",
       "<style scoped>\n",
       "    .dataframe tbody tr th:only-of-type {\n",
       "        vertical-align: middle;\n",
       "    }\n",
       "\n",
       "    .dataframe tbody tr th {\n",
       "        vertical-align: top;\n",
       "    }\n",
       "\n",
       "    .dataframe thead th {\n",
       "        text-align: right;\n",
       "    }\n",
       "</style>\n",
       "<table border=\"1\" class=\"dataframe\">\n",
       "  <thead>\n",
       "    <tr style=\"text-align: right;\">\n",
       "      <th></th>\n",
       "      <th>message</th>\n",
       "      <th>tweetid</th>\n",
       "      <th>cleaned_tweet</th>\n",
       "      <th>lemma_tweet</th>\n",
       "      <th>stem_tweet</th>\n",
       "    </tr>\n",
       "  </thead>\n",
       "  <tbody>\n",
       "    <tr>\n",
       "      <th>0</th>\n",
       "      <td>Europe will now be looking to China to make su...</td>\n",
       "      <td>169760</td>\n",
       "      <td>europe looking china make sure alone fighting ...</td>\n",
       "      <td>sure china looking alone climate make europe c...</td>\n",
       "      <td>sure china look alon climat make europ chang f...</td>\n",
       "    </tr>\n",
       "    <tr>\n",
       "      <th>1</th>\n",
       "      <td>Combine this with the polling of staffers re c...</td>\n",
       "      <td>35326</td>\n",
       "      <td>combine polling staffers climate change womens...</td>\n",
       "      <td>woman combine state climate right staffer poll...</td>\n",
       "      <td>women combin state climat right staffer poll f...</td>\n",
       "    </tr>\n",
       "    <tr>\n",
       "      <th>2</th>\n",
       "      <td>The scary, unimpeachable evidence that climate...</td>\n",
       "      <td>224985</td>\n",
       "      <td>scary unimpeachable evidence climate change al...</td>\n",
       "      <td>unimpeachable evidence climatechange climate s...</td>\n",
       "      <td>unimpeach evid climatechang climat scari itsti...</td>\n",
       "    </tr>\n",
       "    <tr>\n",
       "      <th>3</th>\n",
       "      <td>@Karoli @morgfair @OsborneInk @dailykos \\nPuti...</td>\n",
       "      <td>476263</td>\n",
       "      <td>karoli morgfair osborneink dailykos putin got ...</td>\n",
       "      <td>doesnt got change morgfair jill trump putin ho...</td>\n",
       "      <td>doesnt got chang morgfair jill trump putin hoa...</td>\n",
       "    </tr>\n",
       "    <tr>\n",
       "      <th>4</th>\n",
       "      <td>RT @FakeWillMoore: 'Female orgasms cause globa...</td>\n",
       "      <td>872928</td>\n",
       "      <td>fakewillmoore female orgasms cause global warm...</td>\n",
       "      <td>republican global female warmingsarcastic fake...</td>\n",
       "      <td>republican global femal warmingsarcast fakewil...</td>\n",
       "    </tr>\n",
       "    <tr>\n",
       "      <th>...</th>\n",
       "      <td>...</td>\n",
       "      <td>...</td>\n",
       "      <td>...</td>\n",
       "      <td>...</td>\n",
       "      <td>...</td>\n",
       "    </tr>\n",
       "    <tr>\n",
       "      <th>10541</th>\n",
       "      <td>RT @BrittanyBohrer: Brb, writing a poem about ...</td>\n",
       "      <td>895714</td>\n",
       "      <td>brittanybohrer brb writing poem climate change...</td>\n",
       "      <td>brb poem brittanybohrer alternativefacts clima...</td>\n",
       "      <td>brb poem brittanybohr alternativefact climatec...</td>\n",
       "    </tr>\n",
       "    <tr>\n",
       "      <th>10542</th>\n",
       "      <td>2016: the year climate change came home: Durin...</td>\n",
       "      <td>875167</td>\n",
       "      <td>year climate change came home hottest year rec...</td>\n",
       "      <td>mathiesen came home record hottest climate tra...</td>\n",
       "      <td>mathiesen came home record hottest climat trav...</td>\n",
       "    </tr>\n",
       "    <tr>\n",
       "      <th>10543</th>\n",
       "      <td>RT @loop_vanuatu: Pacific countries positive a...</td>\n",
       "      <td>78329</td>\n",
       "      <td>loopvanuatu pacific countries positive fiji le...</td>\n",
       "      <td>positive global november country conference cl...</td>\n",
       "      <td>posit global novemb countri confer climat fiji...</td>\n",
       "    </tr>\n",
       "    <tr>\n",
       "      <th>10544</th>\n",
       "      <td>RT @xanria_00018: You’re so hot, you must be t...</td>\n",
       "      <td>867455</td>\n",
       "      <td>xanria youre hot must cause global warming ald...</td>\n",
       "      <td>aldublaboroflove global xanria jophie hot warm...</td>\n",
       "      <td>aldublaboroflov global xanria jophi hot warm a...</td>\n",
       "    </tr>\n",
       "    <tr>\n",
       "      <th>10545</th>\n",
       "      <td>RT @chloebalaoing: climate change is a global ...</td>\n",
       "      <td>470892</td>\n",
       "      <td>chloebalaoing climate change global issue that...</td>\n",
       "      <td>getting thats h based least issue global worse...</td>\n",
       "      <td>get that h base least issu global wors effort ...</td>\n",
       "    </tr>\n",
       "  </tbody>\n",
       "</table>\n",
       "<p>10546 rows × 5 columns</p>\n",
       "</div>"
      ],
      "text/plain": [
       "                                                 message  tweetid  \\\n",
       "0      Europe will now be looking to China to make su...   169760   \n",
       "1      Combine this with the polling of staffers re c...    35326   \n",
       "2      The scary, unimpeachable evidence that climate...   224985   \n",
       "3      @Karoli @morgfair @OsborneInk @dailykos \\nPuti...   476263   \n",
       "4      RT @FakeWillMoore: 'Female orgasms cause globa...   872928   \n",
       "...                                                  ...      ...   \n",
       "10541  RT @BrittanyBohrer: Brb, writing a poem about ...   895714   \n",
       "10542  2016: the year climate change came home: Durin...   875167   \n",
       "10543  RT @loop_vanuatu: Pacific countries positive a...    78329   \n",
       "10544  RT @xanria_00018: You’re so hot, you must be t...   867455   \n",
       "10545  RT @chloebalaoing: climate change is a global ...   470892   \n",
       "\n",
       "                                           cleaned_tweet  \\\n",
       "0      europe looking china make sure alone fighting ...   \n",
       "1      combine polling staffers climate change womens...   \n",
       "2      scary unimpeachable evidence climate change al...   \n",
       "3      karoli morgfair osborneink dailykos putin got ...   \n",
       "4      fakewillmoore female orgasms cause global warm...   \n",
       "...                                                  ...   \n",
       "10541  brittanybohrer brb writing poem climate change...   \n",
       "10542  year climate change came home hottest year rec...   \n",
       "10543  loopvanuatu pacific countries positive fiji le...   \n",
       "10544  xanria youre hot must cause global warming ald...   \n",
       "10545  chloebalaoing climate change global issue that...   \n",
       "\n",
       "                                             lemma_tweet  \\\n",
       "0      sure china looking alone climate make europe c...   \n",
       "1      woman combine state climate right staffer poll...   \n",
       "2      unimpeachable evidence climatechange climate s...   \n",
       "3      doesnt got change morgfair jill trump putin ho...   \n",
       "4      republican global female warmingsarcastic fake...   \n",
       "...                                                  ...   \n",
       "10541  brb poem brittanybohrer alternativefacts clima...   \n",
       "10542  mathiesen came home record hottest climate tra...   \n",
       "10543  positive global november country conference cl...   \n",
       "10544  aldublaboroflove global xanria jophie hot warm...   \n",
       "10545  getting thats h based least issue global worse...   \n",
       "\n",
       "                                              stem_tweet  \n",
       "0      sure china look alon climat make europ chang f...  \n",
       "1      women combin state climat right staffer poll f...  \n",
       "2      unimpeach evid climatechang climat scari itsti...  \n",
       "3      doesnt got chang morgfair jill trump putin hoa...  \n",
       "4      republican global femal warmingsarcast fakewil...  \n",
       "...                                                  ...  \n",
       "10541  brb poem brittanybohr alternativefact climatec...  \n",
       "10542  mathiesen came home record hottest climat trav...  \n",
       "10543  posit global novemb countri confer climat fiji...  \n",
       "10544  aldublaboroflov global xanria jophi hot warm a...  \n",
       "10545  get that h base least issu global wors effort ...  \n",
       "\n",
       "[10546 rows x 5 columns]"
      ]
     },
     "execution_count": 28,
     "metadata": {},
     "output_type": "execute_result"
    }
   ],
   "source": [
    "test_df"
   ]
  },
  {
   "cell_type": "code",
   "execution_count": 29,
   "id": "04ff5392",
   "metadata": {},
   "outputs": [],
   "source": [
    "reviews_vect_test = vectorizer.transform(test_df['lemma_tweet'])"
   ]
  },
  {
   "cell_type": "code",
   "execution_count": 30,
   "id": "9e01cc1f",
   "metadata": {},
   "outputs": [
    {
     "data": {
      "text/plain": [
       "(10546, 13795)"
      ]
     },
     "execution_count": 30,
     "metadata": {},
     "output_type": "execute_result"
    }
   ],
   "source": [
    "test_data_features = reviews_vect_test.toarray() # for fast fitting of our dataset\n",
    "test_data_features.shape"
   ]
  },
  {
   "cell_type": "code",
   "execution_count": 31,
   "id": "e7750ceb",
   "metadata": {},
   "outputs": [
    {
     "name": "stdout",
     "output_type": "stream",
     "text": [
      "[LibLinear]"
     ]
    }
   ],
   "source": [
    "lm = LogisticRegression(C=2, penalty='l2', solver='liblinear', verbose=1)\n",
    "lm.fit(X_train, y_train)\n",
    "pred_lm = lm.predict(test_data_features)"
   ]
  },
  {
   "cell_type": "code",
   "execution_count": 32,
   "id": "e76851ce",
   "metadata": {},
   "outputs": [],
   "source": [
    "# Saving test predictions to file\n",
    "output = pd.DataFrame({'tweetid': test_df.tweetid,\n",
    "                       'sentiment': pred_lm})\n",
    "output.to_csv('submission.csv', index=False)"
   ]
  },
  {
   "cell_type": "markdown",
   "id": "8733dff0",
   "metadata": {},
   "source": [
    "# Tracking with comet"
   ]
  },
  {
   "cell_type": "code",
   "execution_count": 33,
   "id": "1238080d",
   "metadata": {},
   "outputs": [],
   "source": [
    "params_knn = {\"random_state\": 10,\n",
    "          \"model_type\": \"knn\"\n",
    "          }\n",
    "\n",
    "metrics_knn = {\"f1\": cr_df_knn.loc['f1-score', 'weighted avg'],\n",
    "               \"precision\": cr_df_knn.loc['precision', 'weighted avg'],\n",
    "               \"recall\": cr_df_knn.loc['recall', 'weighted avg']\n",
    "           }"
   ]
  },
  {
   "cell_type": "code",
   "execution_count": 34,
   "id": "321393e5",
   "metadata": {},
   "outputs": [],
   "source": [
    "params_lm = {\"random_state\": 10,\n",
    "          \"model_type\": \"lm\"\n",
    "          }\n",
    "metrics_lm = {\"f1\": cr_df_logit.loc['f1-score', 'weighted avg'],\n",
    "           \"precision\": cr_df_logit.loc['precision', 'weighted avg'],\n",
    "           \"recall\": cr_df_logit.loc['recall', 'weighted avg']\n",
    "           }"
   ]
  },
  {
   "cell_type": "code",
   "execution_count": 35,
   "id": "08fe66c7",
   "metadata": {},
   "outputs": [],
   "source": [
    "params_naive = {\"random_state\": 10,\n",
    "          \"model_type\": \"naive\"\n",
    "          }\n",
    "metrics_naive = {\"f1\": cr_df_naive.loc['f1-score', 'weighted avg'],\n",
    "           \"precision\": cr_df_naive.loc['precision', 'weighted avg'],\n",
    "           \"recall\": cr_df_naive.loc['recall', 'weighted avg']\n",
    "           }"
   ]
  },
  {
   "cell_type": "code",
   "execution_count": 63,
   "id": "0ba678d8",
   "metadata": {},
   "outputs": [
    {
     "data": {
      "text/plain": [
       "{'web': 'https://www.comet.ml/api/asset/download?assetId=52332f34a77d40168fe9584e315759ed&experimentKey=ab2b648a6d624aeca334313cef02c14e',\n",
       " 'api': 'https://www.comet.ml/api/rest/v2/experiment/asset/get-asset?assetId=52332f34a77d40168fe9584e315759ed&experimentKey=ab2b648a6d624aeca334313cef02c14e',\n",
       " 'assetId': '52332f34a77d40168fe9584e315759ed'}"
      ]
     },
     "execution_count": 63,
     "metadata": {},
     "output_type": "execute_result"
    }
   ],
   "source": [
    "experiment.log_parameters(params_naive)\n",
    "experiment.log_metrics(metrics_naive)\n",
    "experiment.log_confusion_matrix(y_test, naive_bayes.predict(X_test))"
   ]
  },
  {
   "cell_type": "code",
   "execution_count": 68,
   "id": "48d99cac",
   "metadata": {},
   "outputs": [
    {
     "data": {
      "text/plain": [
       "{'web': 'https://www.comet.ml/api/asset/download?assetId=ffd75cd2ef2147c59564282381d43eea&experimentKey=60e961847548481aa632d84611963ecd',\n",
       " 'api': 'https://www.comet.ml/api/rest/v2/experiment/asset/get-asset?assetId=ffd75cd2ef2147c59564282381d43eea&experimentKey=60e961847548481aa632d84611963ecd',\n",
       " 'assetId': 'ffd75cd2ef2147c59564282381d43eea'}"
      ]
     },
     "execution_count": 68,
     "metadata": {},
     "output_type": "execute_result"
    }
   ],
   "source": [
    "experiment.log_parameters(params_lm)\n",
    "experiment.log_metrics(metrics_lm)\n",
    "experiment.log_confusion_matrix(y_test, lm.predict(X_test))"
   ]
  },
  {
   "cell_type": "code",
   "execution_count": 71,
   "id": "063103ca",
   "metadata": {},
   "outputs": [
    {
     "data": {
      "text/plain": [
       "{'web': 'https://www.comet.ml/api/asset/download?assetId=4dc41bd349be4814a8e2c742e2dbc977&experimentKey=a4d3badda284475c8b45a1fe99acba4b',\n",
       " 'api': 'https://www.comet.ml/api/rest/v2/experiment/asset/get-asset?assetId=4dc41bd349be4814a8e2c742e2dbc977&experimentKey=a4d3badda284475c8b45a1fe99acba4b',\n",
       " 'assetId': '4dc41bd349be4814a8e2c742e2dbc977'}"
      ]
     },
     "execution_count": 71,
     "metadata": {},
     "output_type": "execute_result"
    }
   ],
   "source": [
    "experiment.log_parameters(params_knn)\n",
    "experiment.log_metrics(metrics_knn)\n",
    "experiment.log_confusion_matrix(y_test, knn.predict(X_test))"
   ]
  },
  {
   "cell_type": "code",
   "execution_count": 72,
   "id": "dd54df8c",
   "metadata": {
    "scrolled": false
   },
   "outputs": [
    {
     "name": "stderr",
     "output_type": "stream",
     "text": [
      "COMET INFO: ---------------------------\n",
      "COMET INFO: Comet.ml Experiment Summary\n",
      "COMET INFO: ---------------------------\n",
      "COMET INFO:   Data:\n",
      "COMET INFO:     display_summary_level : 1\n",
      "COMET INFO:     url                   : https://www.comet.ml/roceey/edsa-climate-change-belief-analysis/a4d3badda284475c8b45a1fe99acba4b\n",
      "COMET INFO:   Metrics:\n",
      "COMET INFO:     f1        : 0.841114759017274\n",
      "COMET INFO:     precision : 0.8827350255527276\n",
      "COMET INFO:     recall    : 0.8518464243845252\n",
      "COMET INFO:   Parameters:\n",
      "COMET INFO:     model_type   : knn\n",
      "COMET INFO:     random_state : 10\n",
      "COMET INFO:   Uploads:\n",
      "COMET INFO:     conda-info               : 1\n",
      "COMET INFO:     conda-specification      : 1\n",
      "COMET INFO:     confusion-matrix         : 1\n",
      "COMET INFO:     environment details      : 1\n",
      "COMET INFO:     filename                 : 1\n",
      "COMET INFO:     git metadata             : 1\n",
      "COMET INFO:     git-patch (uncompressed) : 1 (8.54 MB)\n",
      "COMET INFO:     installed packages       : 1\n",
      "COMET INFO:     notebook                 : 1\n",
      "COMET INFO:     source_code              : 1\n",
      "COMET INFO: ---------------------------\n",
      "COMET INFO: Uploading 1 metrics, params and output messages\n",
      "COMET INFO: Waiting for completion of the file uploads (may take several seconds)\n",
      "COMET INFO: The Python SDK has 10800 seconds to finish before aborting...\n",
      "COMET INFO: Still uploading 1 file(s), remaining 29.18 KB/2.27 MB\n"
     ]
    }
   ],
   "source": [
    "experiment.end()"
   ]
  },
  {
   "cell_type": "code",
   "execution_count": null,
   "id": "ddd5ca46",
   "metadata": {},
   "outputs": [],
   "source": []
  }
 ],
 "metadata": {
  "kernelspec": {
   "display_name": "Python 3 (ipykernel)",
   "language": "python",
   "name": "python3"
  },
  "language_info": {
   "codemirror_mode": {
    "name": "ipython",
    "version": 3
   },
   "file_extension": ".py",
   "mimetype": "text/x-python",
   "name": "python",
   "nbconvert_exporter": "python",
   "pygments_lexer": "ipython3",
   "version": "3.7.11"
  }
 },
 "nbformat": 4,
 "nbformat_minor": 5
}
